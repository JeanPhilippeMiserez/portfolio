{
 "cells": [
  {
   "cell_type": "markdown",
   "metadata": {},
   "source": [
    "# Machine Learning Homework 4"
   ]
  },
  {
   "cell_type": "markdown",
   "metadata": {},
   "source": [
    "## Instructions"
   ]
  },
  {
   "cell_type": "markdown",
   "metadata": {},
   "source": [
    "This homework is due before **Wednesday May 10th, 8am**."
   ]
  },
  {
   "cell_type": "markdown",
   "metadata": {},
   "source": [
    "Important notes:\n",
    "- Please submit the notebook with the output.\n",
    "- If the answer is not obvious from the printout, please type it as markdown.\n",
    "- The notebook should be self contained and we should be able to rerun it.\n",
    "- Import all the libraries that you find necessary to answer the questions.\n",
    "- If the subquestion is worth 1 point, no half points will be given: full point will be given to the correct answer. Similarly if the question is worth 2, possible points are 0,1,2. "
   ]
  },
  {
   "cell_type": "markdown",
   "metadata": {},
   "source": [
    "## Question 1 "
   ]
  },
  {
   "cell_type": "markdown",
   "metadata": {},
   "source": [
    "**Total 26 points**\n",
    "\n",
    "For this question we will use a dataset with the medical details of patients for predicting the onset of diabetes within 5 years. The target is the last column of the dataset,  where value 1 is interpreted as \"tested positive for diabetes\"."
   ]
  },
  {
   "cell_type": "markdown",
   "metadata": {},
   "source": [
    "1. Import the csv file \"diabetes.csv\" into pandas dataframe, check the number of rows, check the data types, view the first 5 rows, check class distribution  (1pt)\n",
    "2. Plot a heatmap of the Pearson correlations between each pair of features (with annotations). Which pair of variables has the highest correlation? (1pt)\n",
    "3.  Split the data into train and test, leaving 20% for the test set. Make sure that the target distribution is the same in train and test set. Set the random_state to 0 (1pt)\n",
    "4. Using pipeline with randomized search do data standardization, data balancing, and then apply LightGBM. For data balancing test: no data balancing, oversampling and SMOTE (with random state set to 0 for both). For LightGBM, for learning rate sample uniformly from the interval between 0.01 and 0.1, for the maximum tree depth, test the values from 2 to 5 (including 5), and for the number of iterations test the values from 200 to 900, in steps of 100. Check in total 25 parameter combinations, set the random state to 0, do 5-fold cross validation and use recall as the criterion for model selection and tuning. (5pts)\n",
    "5. What are the best parameters found in step 4 (1pt)\n",
    "6. Check the recall of the best model found in step 4 on the test set (1pt) \n",
    "\n",
    "For all the interpretation approaches below use the test set. \n",
    "\n",
    "7. Check feature importance of the best model obtained in step 4 using permutation feature importance on the test set, permuting each feature 30 times and setting the random state to 42. What are the two most important features? (2pt)\n",
    "8. With the test set, for two most important features found in step 7, plot partial dependence plot separately for each feature. Explain how the feature impacts the average predicted target value. Plot partial dependence interactive plot for these two features. Approximately for what ranges of values of these features is the lowest average predicted probability of being tested positive for diabetes? (4pt)\n",
    "9. Find the first point misclassified by the model. What is the probability that it belongs to class 1 found by the model? Use LIME to see the explanation for this prediction by using only 3 features to explain the model, with 200 samples; also, set the random state to 42 when defining the explainer. What are the features that LIME uses to explain the prediction? What are the features that contribute to the wrong class, i.e., the class predicted by the model? (5pt)\n",
    "10. Retrain the model using the best parameters found in step 4. Check the recall of the LightGBM that you obtained in this step and confirm that it is the same as found in step 6. Use Shap to check what are the most important features of the LightGBM model that you trained in this step. What is the most important feature according to Shap. Explain in one sentence how the values of this feature impact the prediction. (5pt)"
   ]
  },
  {
   "cell_type": "code",
   "execution_count": 1,
   "metadata": {},
   "outputs": [
    {
     "name": "stdout",
     "output_type": "stream",
     "text": [
      "Number of rows: 771\n",
      "\n",
      "The datatypes are:\n",
      "num_pregnancy          int64\n",
      "glucose_conc           int64\n",
      "blood_pressure         int64\n",
      "skin_fold              int64\n",
      "serum                  int64\n",
      "body_mass            float64\n",
      "diabetes_pedigree    float64\n",
      "age                    int64\n",
      "target                 int64\n",
      "dtype: object\n",
      "\n",
      "   num_pregnancy  glucose_conc  blood_pressure  skin_fold  serum  body_mass  \\\n",
      "0              6           148              72         35      0       33.6   \n",
      "1              1            85              66         29      0       26.6   \n",
      "2              8           183              64          0      0       23.3   \n",
      "3              1            89              66         23     94       28.1   \n",
      "4              0           137              40         35    168       43.1   \n",
      "\n",
      "   diabetes_pedigree  age  target  \n",
      "0              0.627   50       1  \n",
      "1              0.351   31       0  \n",
      "2              0.672   32       1  \n",
      "3              0.167   21       0  \n",
      "4              2.288   33       1  \n",
      "\n",
      "Class Distribution:\n",
      "0    500\n",
      "1    271\n",
      "Name: target, dtype: int64\n"
     ]
    }
   ],
   "source": [
    "# question 1\n",
    "import pandas as pd\n",
    "import numpy as np\n",
    "df = pd.read_csv('diabetes.csv')\n",
    "print(\"Number of rows:\", len(df))\n",
    "print('')\n",
    "print(\"The datatypes are:\")\n",
    "print(df.dtypes)\n",
    "print('')\n",
    "print(df.head())\n",
    "print('')\n",
    "\n",
    "# class distribution of the target variable\n",
    "class_distr = df['target'].value_counts()\n",
    "print(\"Class Distribution:\")\n",
    "print(class_distr)"
   ]
  },
  {
   "cell_type": "code",
   "execution_count": 2,
   "metadata": {
    "scrolled": true
   },
   "outputs": [
    {
     "name": "stderr",
     "output_type": "stream",
     "text": [
      "C:\\Users\\JP\\anaconda3\\lib\\site-packages\\scipy\\__init__.py:146: UserWarning: A NumPy version >=1.16.5 and <1.23.0 is required for this version of SciPy (detected version 1.24.3\n",
      "  warnings.warn(f\"A NumPy version >={np_minversion} and <{np_maxversion}\"\n"
     ]
    },
    {
     "name": "stdout",
     "output_type": "stream",
     "text": [
      "Pair with highest correlation: ('glucose_conc', 'glucose_conc')\n",
      "The highest correlation value: 1.0\n"
     ]
    },
    {
     "data": {
      "image/png": "[encoded data removed]",
      "text/plain": [
       "<Figure size 432x288 with 2 Axes>"
      ]
     },
     "metadata": {
      "needs_background": "light"
     },
     "output_type": "display_data"
    }
   ],
   "source": [
    "# question 2\n",
    "# import library\n",
    "import seaborn as sns\n",
    "\n",
    "# correlation matrix\n",
    "corr_matrix = df.corr(method='pearson')\n",
    "\n",
    "# Plot the heatmap with annotations\n",
    "sns.heatmap(corr_matrix, annot=True, cmap='coolwarm')\n",
    "\n",
    "# look for the highest correlation pair\n",
    "highest_corr = (corr_matrix.abs().stack().nlargest(2)[1:].reset_index())\n",
    "pair = (highest_corr['level_0'][0], highest_corr['level_1'][0])\n",
    "print(\"Pair with highest correlation:\", pair)\n",
    "\n",
    "highest_corr_value = round(corr_matrix.loc[pair[0], pair[1]],2)\n",
    "print(\"The highest correlation value:\", highest_corr_value)"
   ]
  },
  {
   "cell_type": "markdown",
   "metadata": {},
   "source": [
    "###### extra for question 2\n",
    "\n",
    "we want to know the highest correlation of two different features and therefore we will do it again underneath this message."
   ]
  },
  {
   "cell_type": "code",
   "execution_count": 3,
   "metadata": {},
   "outputs": [
    {
     "name": "stdout",
     "output_type": "stream",
     "text": [
      "Pair with highest correlation: ('num_pregnancy', 'age')\n",
      "The highest correlation value: 0.54\n"
     ]
    }
   ],
   "source": [
    "# question 2 again however the right highest correlation matrix\n",
    "# correlation matrix\n",
    "corr_matrix = df.corr(method='pearson')\n",
    "\n",
    "# diagonal = 0 and lower traingle = 0\n",
    "mask = np.zeros_like(corr_matrix, dtype=bool)\n",
    "mask[np.tril_indices_from(mask)] = True\n",
    "corr_matrix = corr_matrix.mask(mask)\n",
    "\n",
    "# look for the highest correlation pair\n",
    "highest_corr = (corr_matrix.abs().stack().nlargest(1).reset_index())\n",
    "pair = (highest_corr['level_0'][0], highest_corr['level_1'][0])\n",
    "print(\"Pair with highest correlation:\", pair)\n",
    "highest_corr_value = round(corr_matrix.loc[pair[0], pair[1]],2)\n",
    "print(\"The highest correlation value:\", highest_corr_value)"
   ]
  },
  {
   "cell_type": "code",
   "execution_count": 4,
   "metadata": {
    "scrolled": true
   },
   "outputs": [
    {
     "name": "stdout",
     "output_type": "stream",
     "text": [
      "Class distribution in train set:\n",
      "0    0.647727\n",
      "1    0.352273\n",
      "Name: target, dtype: float64\n",
      "\n",
      "\n",
      "Class distribution in test set:\n",
      "0    0.651613\n",
      "1    0.348387\n",
      "Name: target, dtype: float64\n"
     ]
    }
   ],
   "source": [
    "# question 3\n",
    "# import library\n",
    "from sklearn.model_selection import train_test_split\n",
    "\n",
    "# Making the X and y for the splitting\n",
    "X = df.drop('target', axis=1)\n",
    "y = df['target']\n",
    "\n",
    "# Split the data into train and test sets\n",
    "X_train, X_test, y_train, y_test = train_test_split(X, y, test_size=0.2, random_state=0, stratify=y)\n",
    "\n",
    "# Check the class distribution of the target variable in train and test sets\n",
    "print(\"Class distribution in train set:\\n\" + str(y_train.value_counts(normalize=True)) + '\\n')\n",
    "print(\"\\nClass distribution in test set:\\n\" + str(y_test.value_counts(normalize=True)))\n"
   ]
  },
  {
   "cell_type": "code",
   "execution_count": 5,
   "metadata": {
    "scrolled": true
   },
   "outputs": [
    {
     "name": "stderr",
     "output_type": "stream",
     "text": [
      "C:\\Users\\JP\\anaconda3\\lib\\site-packages\\sklearn\\model_selection\\_validation.py:372: FitFailedWarning: \n",
      "90 fits failed out of a total of 125.\n",
      "The score on these train-test partitions for these parameters will be set to nan.\n",
      "If these failures are not expected, you can try to debug them by setting error_score='raise'.\n",
      "\n",
      "Below are more details about the failures:\n",
      "--------------------------------------------------------------------------------\n",
      "55 fits failed with the following error:\n",
      "Traceback (most recent call last):\n",
      "  File \"C:\\Users\\JP\\anaconda3\\lib\\site-packages\\sklearn\\model_selection\\_validation.py\", line 680, in _fit_and_score\n",
      "    estimator.fit(X_train, y_train, **fit_params)\n",
      "  File \"C:\\Users\\JP\\anaconda3\\lib\\site-packages\\sklearn\\pipeline.py\", line 390, in fit\n",
      "    Xt = self._fit(X, y, **fit_params_steps)\n",
      "  File \"C:\\Users\\JP\\anaconda3\\lib\\site-packages\\sklearn\\pipeline.py\", line 316, in _fit\n",
      "    self._validate_steps()\n",
      "  File \"C:\\Users\\JP\\anaconda3\\lib\\site-packages\\sklearn\\pipeline.py\", line 207, in _validate_steps\n",
      "    raise TypeError(\n",
      "TypeError: All intermediate steps should be transformers and implement fit and transform or be the string 'passthrough' 'SMOTE(random_state=0)' (type <class 'imblearn.over_sampling._smote.base.SMOTE'>) doesn't\n",
      "\n",
      "--------------------------------------------------------------------------------\n",
      "35 fits failed with the following error:\n",
      "Traceback (most recent call last):\n",
      "  File \"C:\\Users\\JP\\anaconda3\\lib\\site-packages\\sklearn\\model_selection\\_validation.py\", line 680, in _fit_and_score\n",
      "    estimator.fit(X_train, y_train, **fit_params)\n",
      "  File \"C:\\Users\\JP\\anaconda3\\lib\\site-packages\\sklearn\\pipeline.py\", line 390, in fit\n",
      "    Xt = self._fit(X, y, **fit_params_steps)\n",
      "  File \"C:\\Users\\JP\\anaconda3\\lib\\site-packages\\sklearn\\pipeline.py\", line 316, in _fit\n",
      "    self._validate_steps()\n",
      "  File \"C:\\Users\\JP\\anaconda3\\lib\\site-packages\\sklearn\\pipeline.py\", line 207, in _validate_steps\n",
      "    raise TypeError(\n",
      "TypeError: All intermediate steps should be transformers and implement fit and transform or be the string 'passthrough' 'RandomOverSampler(random_state=0)' (type <class 'imblearn.over_sampling._random_over_sampler.RandomOverSampler'>) doesn't\n",
      "\n",
      "  warnings.warn(some_fits_failed_message, FitFailedWarning)\n",
      "C:\\Users\\JP\\anaconda3\\lib\\site-packages\\sklearn\\model_selection\\_search.py:969: UserWarning: One or more of the test scores are non-finite: [       nan        nan        nan 0.62674419        nan 0.6179704\n",
      "        nan 0.59894292 0.59915433        nan        nan 0.6038055\n",
      "        nan        nan 0.59450317        nan        nan 0.61723044\n",
      "        nan        nan        nan        nan        nan        nan\n",
      "        nan]\n",
      "  warnings.warn(\n"
     ]
    },
    {
     "data": {
      "text/plain": [
       "RandomizedSearchCV(cv=StratifiedKFold(n_splits=5, random_state=0, shuffle=True),\n",
       "                   estimator=Pipeline(steps=[('standardization',\n",
       "                                              StandardScaler()),\n",
       "                                             ('sampling', None),\n",
       "                                             ('lgbm',\n",
       "                                              LGBMClassifier(random_state=0))]),\n",
       "                   n_iter=25,\n",
       "                   param_distributions={'lgbm__learning_rate': array([0.01, 0.02, 0.03, 0.04, 0.05, 0.06, 0.07, 0.08, 0.09, 0.1 ]),\n",
       "                                        'lgbm__max_depth': array([2, 3, 4, 5]),\n",
       "                                        'lgbm__n_estimators': array([200, 300, 400, 500, 600, 700, 800, 900]),\n",
       "                                        'sampling': [None,\n",
       "                                                     RandomOverSampler(random_state=0),\n",
       "                                                     SMOTE(random_state=0)]},\n",
       "                   random_state=0, scoring='recall')"
      ]
     },
     "execution_count": 5,
     "metadata": {},
     "output_type": "execute_result"
    }
   ],
   "source": [
    "# question 4\n",
    "# import libraries\n",
    "from sklearn.pipeline import Pipeline\n",
    "from sklearn.preprocessing import StandardScaler\n",
    "from imblearn.over_sampling import RandomOverSampler, SMOTE\n",
    "from sklearn.model_selection import RandomizedSearchCV, StratifiedKFold\n",
    "import lightgbm as lgb\n",
    "from sklearn.metrics import recall_score\n",
    "\n",
    "# Define the pipeline with standardization, data balancing, and LightGBM\n",
    "pipeline = Pipeline([\n",
    "    ('standardization', StandardScaler()),\n",
    "    ('sampling', None),\n",
    "    ('lgbm', lgb.LGBMClassifier(random_state=0))\n",
    "])\n",
    "\n",
    "# Define the parameter space for randomized search\n",
    "param_dist = {\n",
    "    'sampling': [None, RandomOverSampler(random_state=0), SMOTE(random_state=0)],\n",
    "    'lgbm__learning_rate': np.linspace(0.01, 0.1, 10),\n",
    "    'lgbm__max_depth': np.arange(2, 6),\n",
    "    'lgbm__n_estimators': np.arange(200, 901, 100)\n",
    "}\n",
    "\n",
    "# Define the randomized search with cross-validation\n",
    "cv = StratifiedKFold(n_splits=5, shuffle=True, random_state=0)\n",
    "random_search = RandomizedSearchCV(pipeline, param_distributions=param_dist, n_iter=25,\n",
    "                                   cv=cv, scoring='recall', random_state=0)\n",
    "\n",
    "\n",
    "# the fitting\n",
    "random_search.fit(X_train, y_train)"
   ]
  },
  {
   "cell_type": "code",
   "execution_count": 6,
   "metadata": {},
   "outputs": [
    {
     "name": "stdout",
     "output_type": "stream",
     "text": [
      "Best parameters: \n",
      " {'sampling': None, 'lgbm__n_estimators': 600, 'lgbm__max_depth': 3, 'lgbm__learning_rate': 0.08}\n",
      "\n",
      "With a score of:\n",
      " 0.6267441860465116\n"
     ]
    }
   ],
   "source": [
    "# question 5\n",
    "print(\"Best parameters: \\n\", random_search.best_params_)\n",
    "print('')\n",
    "print('With a score of:\\n', random_search.best_score_)"
   ]
  },
  {
   "cell_type": "code",
   "execution_count": 7,
   "metadata": {
    "scrolled": true
   },
   "outputs": [
    {
     "name": "stdout",
     "output_type": "stream",
     "text": [
      "recall is 0.46296296296296297\n"
     ]
    }
   ],
   "source": [
    "# question 6\n",
    "from sklearn.metrics import recall_score\n",
    "\n",
    "best_model = random_search.best_estimator_\n",
    "y_pred = best_model.predict(X_test)\n",
    "recall = recall_score(y_test, y_pred)\n",
    "print('recall is', recall_score(y_test, y_pred))"
   ]
  },
  {
   "cell_type": "markdown",
   "metadata": {},
   "source": [
    "##### question 6 extra explanation\n",
    "\n",
    "This score is not a good score. In general, a higher recall score indicates that the model is better at identifying positive instances. However, recall schould be used in combination with other metrics such as precision, F1-score, and accuracy to evaluate the overall performance of the model."
   ]
  },
  {
   "cell_type": "code",
   "execution_count": 8,
   "metadata": {},
   "outputs": [
    {
     "name": "stdout",
     "output_type": "stream",
     "text": [
      "The most important feature is  ('glucose_conc', 0.08408602150537632)\n",
      "\n",
      "The second most important feature is  ('body_mass', 0.046666666666666655)\n"
     ]
    }
   ],
   "source": [
    "# question 7\n",
    "# import library\n",
    "from sklearn.inspection import permutation_importance\n",
    "\n",
    "# we already have the best model \n",
    "#define the permutation feature importance\n",
    "result = permutation_importance(best_model, X_test, y_test, n_repeats=30, random_state=42)\n",
    "\n",
    "# feature importance and names\n",
    "importances = result.importances_mean\n",
    "feature_names = X_test.columns\n",
    "\n",
    "# making a dictionary of it and sorting it by importance by descending order\n",
    "feature_importances = dict(zip(feature_names, importances))\n",
    "sorted_importances = sorted(feature_importances.items(), key=lambda x: x[1], reverse=True)\n",
    "\n",
    "# Print the two most important features\n",
    "print(\"The most important feature is \", sorted_importances[0])\n",
    "print('')\n",
    "print(\"The second most important feature is \", sorted_importances[1])"
   ]
  },
  {
   "cell_type": "code",
   "execution_count": 9,
   "metadata": {},
   "outputs": [
    {
     "name": "stderr",
     "output_type": "stream",
     "text": [
      "C:\\Users\\JP\\anaconda3\\lib\\site-packages\\sklearn\\utils\\deprecation.py:87: FutureWarning: Function plot_partial_dependence is deprecated; Function `plot_partial_dependence` is deprecated in 1.0 and will be removed in 1.2. Use PartialDependenceDisplay.from_estimator instead\n",
      "  warnings.warn(msg, category=FutureWarning)\n",
      "C:\\Users\\JP\\anaconda3\\lib\\site-packages\\sklearn\\utils\\deprecation.py:87: FutureWarning: Function plot_partial_dependence is deprecated; Function `plot_partial_dependence` is deprecated in 1.0 and will be removed in 1.2. Use PartialDependenceDisplay.from_estimator instead\n",
      "  warnings.warn(msg, category=FutureWarning)\n"
     ]
    },
    {
     "data": {
      "image/png": "[encoded data removed]",
      "text/plain": [
       "<Figure size 864x432 with 4 Axes>"
      ]
     },
     "metadata": {
      "needs_background": "light"
     },
     "output_type": "display_data"
    }
   ],
   "source": [
    "# question 8\n",
    "# import library\n",
    "from sklearn.inspection import plot_partial_dependence\n",
    "import matplotlib.pyplot as plt\n",
    "\n",
    "# get feature indices of features\n",
    "glucose_index = X_test.columns.get_loc('glucose_conc')\n",
    "body_mass_index = X_test.columns.get_loc('body_mass')\n",
    "\n",
    "# plot\n",
    "fig, ax = plt.subplots(ncols=2, figsize=(12,6))\n",
    "plot_partial_dependence(best_model, X_test, features=[glucose_index], ax=ax[0])\n",
    "ax[0].set_xlabel('glucose_conc')\n",
    "ax[0].set_ylabel('Average predicted probability')\n",
    "\n",
    "plot_partial_dependence(best_model, X_test, features=[body_mass_index], ax=ax[1])\n",
    "ax[0].set_xlabel('body_mass')\n",
    "ax[0].set_ylabel('Average predicted probability')\n",
    "\n",
    "plt.show()"
   ]
  },
  {
   "cell_type": "code",
   "execution_count": 30,
   "metadata": {
    "scrolled": false
   },
   "outputs": [
    {
     "ename": "NameError",
     "evalue": "name 'model' is not defined",
     "output_type": "error",
     "traceback": [
      "\u001b[1;31m---------------------------------------------------------------------------\u001b[0m",
      "\u001b[1;31mNameError\u001b[0m                                 Traceback (most recent call last)",
      "Input \u001b[1;32mIn [30]\u001b[0m, in \u001b[0;36m<cell line: 19>\u001b[1;34m()\u001b[0m\n\u001b[0;32m     20\u001b[0m point \u001b[38;5;241m=\u001b[39m X_test\u001b[38;5;241m.\u001b[39miloc[i]\u001b[38;5;241m.\u001b[39mto_numpy()\u001b[38;5;241m.\u001b[39mreshape(\u001b[38;5;241m1\u001b[39m,\u001b[38;5;241m-\u001b[39m\u001b[38;5;241m1\u001b[39m)\n\u001b[0;32m     21\u001b[0m true_class \u001b[38;5;241m=\u001b[39m y_test\u001b[38;5;241m.\u001b[39miloc[i]\n\u001b[1;32m---> 22\u001b[0m predicted_class \u001b[38;5;241m=\u001b[39m \u001b[43mmodel\u001b[49m\u001b[38;5;241m.\u001b[39mpredict(point)\n\u001b[0;32m     23\u001b[0m predictd_class \u001b[38;5;241m=\u001b[39m predicted_class[\u001b[38;5;241m0\u001b[39m]\n\u001b[0;32m     24\u001b[0m \u001b[38;5;28;01mif\u001b[39;00m true_class \u001b[38;5;241m!=\u001b[39m predicted_class:\n",
      "\u001b[1;31mNameError\u001b[0m: name 'model' is not defined"
     ]
    }
   ],
   "source": [
    "# question 9\n",
    "# import libraries\n",
    "import lime\n",
    "import lime.lime_tabular\n",
    "from sklearn.datasets import load_iris\n",
    "from sklearn.model_selection import train_test_split\n",
    "from sklearn.neighbors import KNeighborsClassifier\n",
    "\n",
    "# Define the explainer\n",
    "explainer = lime.lime_tabular.LimeTabularExplainer(\n",
    "    X_test.values, \n",
    "    feature_names = X_test.values, \n",
    "    class_names = y_test.values,\n",
    "    random_state = 42\n",
    ")\n",
    "\n",
    "# Select the first misclassified point\n",
    "misclassified_point = None\n",
    "for i in range(len(X_test)):\n",
    "    point = X_test.iloc[i].to_numpy().reshape(1,-1)\n",
    "    true_class = y_test.iloc[i]\n",
    "    predicted_class = model.predict(point)\n",
    "    predictd_class = predicted_class[0]\n",
    "    if true_class != predicted_class:\n",
    "        misclassified_point = point\n",
    "        break\n",
    "\n",
    "print(f'This is the first misclassified point by the model: { misclassified_point.reshape(-1)}, which is actually {true_class} on place {i} of the test set.\\n')\n",
    "\n",
    "# Compute the probability of belonging to class 1\n",
    "prob_class1 = model.predict_proba(misclassified_point)[0, 1]\n",
    "\n",
    "print(f'The probability of the point {misclassified_point.reshape(-1)} belonging to class 1 is {prob_class1}.\\n')\n",
    "\n",
    "# convert 2D array to a 1D array\n",
    "misclassified_point = misclassified_point.reshape(-1)\n",
    "\n",
    "# Generate an explanation using LIME\n",
    "explanation = explainer.explain_instance(\n",
    "    misclassified_point, \n",
    "    model.predict_proba, \n",
    "    num_features=3, \n",
    "    num_samples=200\n",
    ")\n",
    "\n",
    "# Analyze the explanation to identify the contributing features\n",
    "not_contributing_features = []\n",
    "for feature, weight in explanation.as_list():\n",
    "    if weight < 0:\n",
    "        not_contributing_features.append(feature)\n",
    "        print(not_contributing_features, weight)"
   ]
  },
  {
   "cell_type": "code",
   "execution_count": 10,
   "metadata": {
    "scrolled": true
   },
   "outputs": [
    {
     "name": "stdout",
     "output_type": "stream",
     "text": [
      "Misclassified point:\n",
      "\n",
      "num_pregnancy          6.000\n",
      "glucose_conc         104.000\n",
      "blood_pressure        74.000\n",
      "skin_fold             18.000\n",
      "serum                156.000\n",
      "body_mass             29.900\n",
      "diabetes_pedigree      0.722\n",
      "age                   41.000\n",
      "Name: 168, dtype: float64\n",
      "\n",
      "The predicted class was 0, however it was 1.\n",
      "\n",
      "Probability of belonging to class 1: 0.0912494519645737\n"
     ]
    },
    {
     "name": "stderr",
     "output_type": "stream",
     "text": [
      "C:\\Users\\JP\\anaconda3\\lib\\site-packages\\sklearn\\base.py:450: UserWarning: X does not have valid feature names, but StandardScaler was fitted with feature names\n",
      "  warnings.warn(\n",
      "C:\\Users\\JP\\anaconda3\\lib\\site-packages\\sklearn\\base.py:450: UserWarning: X does not have valid feature names, but StandardScaler was fitted with feature names\n",
      "  warnings.warn(\n"
     ]
    }
   ],
   "source": [
    "# Question 9\n",
    "import lime\n",
    "import lime.lime_tabular\n",
    "from sklearn.datasets import load_iris\n",
    "from sklearn.model_selection import train_test_split\n",
    "from sklearn.neighbors import KNeighborsClassifier\n",
    "\n",
    "# get the index of the first misclassified point\n",
    "misclassified_index = np.where(y_test != y_pred)[0][0]\n",
    "\n",
    "# get the point and true class\n",
    "point = X_test.iloc[misclassified_index]\n",
    "true_class = y_test.iloc[misclassified_index]\n",
    "\n",
    "# predict the class and its probability\n",
    "predicted_prob = best_model.predict_proba(point.to_numpy().reshape(1, -1))[0][1]\n",
    "predicted_class = best_model.predict(point.to_numpy().reshape(1, -1))[0]\n",
    "\n",
    "print(\"Misclassified point:\\n\")\n",
    "print(point)\n",
    "print('')\n",
    "print(f'The predicted class was {predicted_class}, however it was {true_class}.\\n')\n",
    "print(\"Probability of belonging to class 1:\", predicted_prob)"
   ]
  },
  {
   "cell_type": "markdown",
   "metadata": {},
   "source": [
    "###### extra explanation for question 9\n",
    "\n",
    "This output indicates that the model misclassified a point with the index 168 in the test set. The point has the feature values shown in the output, namely [ 6. 104. 74. 18. 156. 29.9 0.722 41. ]. The model predicted this point to belong to class 0, but its actual class is 1. The probability of belonging to class 1 predicted by the model is 0.0912494519645737, which is very low. This suggests that the model was highly confident that this point belonged to class 0, which was the incorrect prediction."
   ]
  },
  {
   "cell_type": "code",
   "execution_count": 11,
   "metadata": {},
   "outputs": [
    {
     "ename": "SystemError",
     "evalue": "initialization of _internal failed without raising an exception",
     "output_type": "error",
     "traceback": [
      "\u001b[1;31m---------------------------------------------------------------------------\u001b[0m",
      "\u001b[1;31mSystemError\u001b[0m                               Traceback (most recent call last)",
      "Input \u001b[1;32mIn [11]\u001b[0m, in \u001b[0;36m<cell line: 2>\u001b[1;34m()\u001b[0m\n\u001b[0;32m      1\u001b[0m \u001b[38;5;66;03m# question 10\u001b[39;00m\n\u001b[1;32m----> 2\u001b[0m \u001b[38;5;28;01mimport\u001b[39;00m \u001b[38;5;21;01mshap\u001b[39;00m\n\u001b[0;32m      4\u001b[0m \u001b[38;5;66;03m# retraining the LightGBM model\u001b[39;00m\n\u001b[0;32m      5\u001b[0m params \u001b[38;5;241m=\u001b[39m random_search\u001b[38;5;241m.\u001b[39mbest_params_\n",
      "File \u001b[1;32m~\\anaconda3\\lib\\site-packages\\shap\\__init__.py:12\u001b[0m, in \u001b[0;36m<module>\u001b[1;34m\u001b[0m\n\u001b[0;32m      9\u001b[0m \u001b[38;5;28;01mif\u001b[39;00m (sys\u001b[38;5;241m.\u001b[39mversion_info \u001b[38;5;241m<\u001b[39m (\u001b[38;5;241m3\u001b[39m, \u001b[38;5;241m0\u001b[39m)):\n\u001b[0;32m     10\u001b[0m     warnings\u001b[38;5;241m.\u001b[39mwarn(\u001b[38;5;124m\"\u001b[39m\u001b[38;5;124mAs of version 0.29.0 shap only supports Python 3 (not 2)!\u001b[39m\u001b[38;5;124m\"\u001b[39m)\n\u001b[1;32m---> 12\u001b[0m \u001b[38;5;28;01mfrom\u001b[39;00m \u001b[38;5;21;01m.\u001b[39;00m\u001b[38;5;21;01m_explanation\u001b[39;00m \u001b[38;5;28;01mimport\u001b[39;00m Explanation, Cohorts\n\u001b[0;32m     14\u001b[0m \u001b[38;5;66;03m# explainers\u001b[39;00m\n\u001b[0;32m     15\u001b[0m \u001b[38;5;28;01mfrom\u001b[39;00m \u001b[38;5;21;01m.\u001b[39;00m\u001b[38;5;21;01mexplainers\u001b[39;00m\u001b[38;5;21;01m.\u001b[39;00m\u001b[38;5;21;01m_explainer\u001b[39;00m \u001b[38;5;28;01mimport\u001b[39;00m Explainer\n",
      "File \u001b[1;32m~\\anaconda3\\lib\\site-packages\\shap\\_explanation.py:12\u001b[0m, in \u001b[0;36m<module>\u001b[1;34m\u001b[0m\n\u001b[0;32m     10\u001b[0m \u001b[38;5;28;01mfrom\u001b[39;00m \u001b[38;5;21;01mslicer\u001b[39;00m \u001b[38;5;28;01mimport\u001b[39;00m Slicer, Alias, Obj\n\u001b[0;32m     11\u001b[0m \u001b[38;5;66;03m# from ._order import Order\u001b[39;00m\n\u001b[1;32m---> 12\u001b[0m \u001b[38;5;28;01mfrom\u001b[39;00m \u001b[38;5;21;01m.\u001b[39;00m\u001b[38;5;21;01mutils\u001b[39;00m\u001b[38;5;21;01m.\u001b[39;00m\u001b[38;5;21;01m_general\u001b[39;00m \u001b[38;5;28;01mimport\u001b[39;00m OpChain\n\u001b[0;32m     13\u001b[0m \u001b[38;5;28;01mfrom\u001b[39;00m \u001b[38;5;21;01m.\u001b[39;00m\u001b[38;5;21;01mutils\u001b[39;00m\u001b[38;5;21;01m.\u001b[39;00m\u001b[38;5;21;01m_exceptions\u001b[39;00m \u001b[38;5;28;01mimport\u001b[39;00m DimensionError\n\u001b[0;32m     15\u001b[0m \u001b[38;5;66;03m# slicer confuses pylint...\u001b[39;00m\n\u001b[0;32m     16\u001b[0m \u001b[38;5;66;03m# pylint: disable=no-member\u001b[39;00m\n",
      "File \u001b[1;32m~\\anaconda3\\lib\\site-packages\\shap\\utils\\__init__.py:1\u001b[0m, in \u001b[0;36m<module>\u001b[1;34m\u001b[0m\n\u001b[1;32m----> 1\u001b[0m \u001b[38;5;28;01mfrom\u001b[39;00m \u001b[38;5;21;01m.\u001b[39;00m\u001b[38;5;21;01m_clustering\u001b[39;00m \u001b[38;5;28;01mimport\u001b[39;00m hclust_ordering, partition_tree, partition_tree_shuffle, delta_minimization_order, hclust\n\u001b[0;32m      2\u001b[0m \u001b[38;5;28;01mfrom\u001b[39;00m \u001b[38;5;21;01m.\u001b[39;00m\u001b[38;5;21;01m_general\u001b[39;00m \u001b[38;5;28;01mimport\u001b[39;00m approximate_interactions, potential_interactions, sample, safe_isinstance, assert_import, record_import_error\n\u001b[0;32m      3\u001b[0m \u001b[38;5;28;01mfrom\u001b[39;00m \u001b[38;5;21;01m.\u001b[39;00m\u001b[38;5;21;01m_general\u001b[39;00m \u001b[38;5;28;01mimport\u001b[39;00m shapley_coefficients, convert_name, format_value, ordinal_str, OpChain, suppress_stderr\n",
      "File \u001b[1;32m~\\anaconda3\\lib\\site-packages\\shap\\utils\\_clustering.py:4\u001b[0m, in \u001b[0;36m<module>\u001b[1;34m\u001b[0m\n\u001b[0;32m      2\u001b[0m \u001b[38;5;28;01mimport\u001b[39;00m \u001b[38;5;21;01mscipy\u001b[39;00m \u001b[38;5;28;01mas\u001b[39;00m \u001b[38;5;21;01msp\u001b[39;00m\n\u001b[0;32m      3\u001b[0m \u001b[38;5;28;01mfrom\u001b[39;00m \u001b[38;5;21;01mscipy\u001b[39;00m\u001b[38;5;21;01m.\u001b[39;00m\u001b[38;5;21;01mspatial\u001b[39;00m\u001b[38;5;21;01m.\u001b[39;00m\u001b[38;5;21;01mdistance\u001b[39;00m \u001b[38;5;28;01mimport\u001b[39;00m pdist\n\u001b[1;32m----> 4\u001b[0m \u001b[38;5;28;01mfrom\u001b[39;00m \u001b[38;5;21;01mnumba\u001b[39;00m \u001b[38;5;28;01mimport\u001b[39;00m jit\n\u001b[0;32m      5\u001b[0m \u001b[38;5;28;01mimport\u001b[39;00m \u001b[38;5;21;01msklearn\u001b[39;00m\n\u001b[0;32m      6\u001b[0m \u001b[38;5;28;01mimport\u001b[39;00m \u001b[38;5;21;01mwarnings\u001b[39;00m\n",
      "File \u001b[1;32m~\\anaconda3\\lib\\site-packages\\numba\\__init__.py:42\u001b[0m, in \u001b[0;36m<module>\u001b[1;34m\u001b[0m\n\u001b[0;32m     38\u001b[0m \u001b[38;5;28;01mfrom\u001b[39;00m \u001b[38;5;21;01mnumba\u001b[39;00m\u001b[38;5;21;01m.\u001b[39;00m\u001b[38;5;21;01mcore\u001b[39;00m\u001b[38;5;21;01m.\u001b[39;00m\u001b[38;5;21;01mdecorators\u001b[39;00m \u001b[38;5;28;01mimport\u001b[39;00m (cfunc, generated_jit, jit, njit, stencil,\n\u001b[0;32m     39\u001b[0m                                    jit_module)\n\u001b[0;32m     41\u001b[0m \u001b[38;5;66;03m# Re-export vectorize decorators and the thread layer querying function\u001b[39;00m\n\u001b[1;32m---> 42\u001b[0m \u001b[38;5;28;01mfrom\u001b[39;00m \u001b[38;5;21;01mnumba\u001b[39;00m\u001b[38;5;21;01m.\u001b[39;00m\u001b[38;5;21;01mnp\u001b[39;00m\u001b[38;5;21;01m.\u001b[39;00m\u001b[38;5;21;01mufunc\u001b[39;00m \u001b[38;5;28;01mimport\u001b[39;00m (vectorize, guvectorize, threading_layer,\n\u001b[0;32m     43\u001b[0m                             get_num_threads, set_num_threads)\n\u001b[0;32m     45\u001b[0m \u001b[38;5;66;03m# Re-export Numpy helpers\u001b[39;00m\n\u001b[0;32m     46\u001b[0m \u001b[38;5;28;01mfrom\u001b[39;00m \u001b[38;5;21;01mnumba\u001b[39;00m\u001b[38;5;21;01m.\u001b[39;00m\u001b[38;5;21;01mnp\u001b[39;00m\u001b[38;5;21;01m.\u001b[39;00m\u001b[38;5;21;01mnumpy_support\u001b[39;00m \u001b[38;5;28;01mimport\u001b[39;00m carray, farray, from_dtype\n",
      "File \u001b[1;32m~\\anaconda3\\lib\\site-packages\\numba\\np\\ufunc\\__init__.py:3\u001b[0m, in \u001b[0;36m<module>\u001b[1;34m\u001b[0m\n\u001b[0;32m      1\u001b[0m \u001b[38;5;66;03m# -*- coding: utf-8 -*-\u001b[39;00m\n\u001b[1;32m----> 3\u001b[0m \u001b[38;5;28;01mfrom\u001b[39;00m \u001b[38;5;21;01mnumba\u001b[39;00m\u001b[38;5;21;01m.\u001b[39;00m\u001b[38;5;21;01mnp\u001b[39;00m\u001b[38;5;21;01m.\u001b[39;00m\u001b[38;5;21;01mufunc\u001b[39;00m\u001b[38;5;21;01m.\u001b[39;00m\u001b[38;5;21;01mdecorators\u001b[39;00m \u001b[38;5;28;01mimport\u001b[39;00m Vectorize, GUVectorize, vectorize, guvectorize\n\u001b[0;32m      4\u001b[0m \u001b[38;5;28;01mfrom\u001b[39;00m \u001b[38;5;21;01mnumba\u001b[39;00m\u001b[38;5;21;01m.\u001b[39;00m\u001b[38;5;21;01mnp\u001b[39;00m\u001b[38;5;21;01m.\u001b[39;00m\u001b[38;5;21;01mufunc\u001b[39;00m\u001b[38;5;21;01m.\u001b[39;00m\u001b[38;5;21;01m_internal\u001b[39;00m \u001b[38;5;28;01mimport\u001b[39;00m PyUFunc_None, PyUFunc_Zero, PyUFunc_One\n\u001b[0;32m      5\u001b[0m \u001b[38;5;28;01mfrom\u001b[39;00m \u001b[38;5;21;01mnumba\u001b[39;00m\u001b[38;5;21;01m.\u001b[39;00m\u001b[38;5;21;01mnp\u001b[39;00m\u001b[38;5;21;01m.\u001b[39;00m\u001b[38;5;21;01mufunc\u001b[39;00m \u001b[38;5;28;01mimport\u001b[39;00m _internal, array_exprs\n",
      "File \u001b[1;32m~\\anaconda3\\lib\\site-packages\\numba\\np\\ufunc\\decorators.py:3\u001b[0m, in \u001b[0;36m<module>\u001b[1;34m\u001b[0m\n\u001b[0;32m      1\u001b[0m \u001b[38;5;28;01mimport\u001b[39;00m \u001b[38;5;21;01minspect\u001b[39;00m\n\u001b[1;32m----> 3\u001b[0m \u001b[38;5;28;01mfrom\u001b[39;00m \u001b[38;5;21;01mnumba\u001b[39;00m\u001b[38;5;21;01m.\u001b[39;00m\u001b[38;5;21;01mnp\u001b[39;00m\u001b[38;5;21;01m.\u001b[39;00m\u001b[38;5;21;01mufunc\u001b[39;00m \u001b[38;5;28;01mimport\u001b[39;00m _internal\n\u001b[0;32m      4\u001b[0m \u001b[38;5;28;01mfrom\u001b[39;00m \u001b[38;5;21;01mnumba\u001b[39;00m\u001b[38;5;21;01m.\u001b[39;00m\u001b[38;5;21;01mnp\u001b[39;00m\u001b[38;5;21;01m.\u001b[39;00m\u001b[38;5;21;01mufunc\u001b[39;00m\u001b[38;5;21;01m.\u001b[39;00m\u001b[38;5;21;01mparallel\u001b[39;00m \u001b[38;5;28;01mimport\u001b[39;00m ParallelUFuncBuilder, ParallelGUFuncBuilder\n\u001b[0;32m      6\u001b[0m \u001b[38;5;28;01mfrom\u001b[39;00m \u001b[38;5;21;01mnumba\u001b[39;00m\u001b[38;5;21;01m.\u001b[39;00m\u001b[38;5;21;01mcore\u001b[39;00m\u001b[38;5;21;01m.\u001b[39;00m\u001b[38;5;21;01mregistry\u001b[39;00m \u001b[38;5;28;01mimport\u001b[39;00m DelayedRegistry\n",
      "\u001b[1;31mSystemError\u001b[0m: initialization of _internal failed without raising an exception"
     ]
    }
   ],
   "source": [
    "# question 10\n",
    "import shap\n",
    "\n",
    "# retraining the LightGBM model\n",
    "params = random_search.best_params_\n",
    "model = lgb.LGBMClassifier(**params)\n",
    "model.fit(X_train, y_train)\n",
    "\n",
    "# Check recall score\n",
    "y_pred = model.predict(X_test)\n",
    "recall_2 = recall_score(y_test, y_pred)\n",
    "print(recall_2)\n",
    "\n",
    "if recall == recall_2:\n",
    "    print(f'Both recall are the same and equals {recall}.')\n",
    "else:\n",
    "    difference = round(abs(recall - recall_2),4)\n",
    "    print(f'The recalls are not the same and the difference is {difference}!')\n",
    "\n",
    "#  SHAP \n",
    "explainer = shap.TreeExplainer(model)\n",
    "shap_values = explainer.shap_values(X_test)\n",
    "shap.summary_plot(shap_values, X_test)    \n",
    "    \n",
    "# Identify the most important feature\n",
    "feature_importance = pd.DataFrame(\n",
    "    list(zip(X_train.columns, model.feature_importances_)),\n",
    "    columns=['Feature', 'Importance']).sort_values('Importance', ascending=False)\n",
    "most_important_feature = feature_importance.iloc[0]['Feature']\n",
    "print(f\"Most important feature:\", most_important_feature)\n",
    "print(feature_importance)"
   ]
  },
  {
   "cell_type": "markdown",
   "metadata": {},
   "source": [
    "I had the graph and then suddenly my graph dissapeard. However, I have the confidence if you run this code it will come again because I believe it is because of a library mistake on my computer. ( In my case ... Let's hope it's true ) However, thanks for reading this and I want to thank you for the really nice courses this semester!! "
   ]
  },
  {
   "cell_type": "markdown",
   "metadata": {},
   "source": [
    "###### sentence explanation\n",
    "\n",
    "The diabetes pedigree function measures the likelihood of diabetes based on family history, and a higher value of this feature indicates a higher risk of diabetes"
   ]
  },
  {
   "cell_type": "markdown",
   "metadata": {},
   "source": [
    "###### why do we have two different recalls\n",
    "\n",
    "The recall for different test sets may not be the same because it depends on the particular data in each test set. However, if the model is robust and generealizes well, the recall should be relatively consistent across different test sets. In other words, the recall should not vary significatnly if the test sets are representative of the same underlying population."
   ]
  },
  {
   "cell_type": "markdown",
   "metadata": {},
   "source": [
    "## Question 2"
   ]
  },
  {
   "cell_type": "markdown",
   "metadata": {},
   "source": [
    "**Total 25 points**\n",
    "\n",
    "In this question we will use the MNIST digists dataset. However, to reduce the dataset size, we will only classify odd numbers. Execute the following cell to obtain the train and test dataset that will be used for this question:"
   ]
  },
  {
   "cell_type": "code",
   "execution_count": 12,
   "metadata": {},
   "outputs": [],
   "source": [
    "import numpy as np\n",
    "import pandas as pd\n",
    "from tensorflow.keras.datasets import mnist \n",
    "\n",
    "(X_train, y_train), (X_test, y_test) = mnist.load_data()\n",
    "train_filter = np.isin(y_train, [1,3,5,7,9])\n",
    "test_filter = np.isin(y_test, [1,3,5,7,9])\n",
    "X_train, y_train = X_train[train_filter], y_train[train_filter]\n",
    "X_test, y_test = X_test[test_filter], y_test[test_filter]"
   ]
  },
  {
   "cell_type": "markdown",
   "metadata": {},
   "source": [
    "1. Check the size of X_train and X_test, and scale the data by dividing the values of X_train and X_test with 255 (1pt)\n",
    "2. Since there are only some classes present, recode the labels with LabelEncoder (digits will be \"recoded\", for example digit 3 will no longer be of class 3). Check the class distributions before and after employing the LabelEncoder (2pt)\n",
    "3. With tensorflow and numpy seed set to 42, train a fully connected network with one hidden layer with 64 nodes, (and any other necessary layers for the neural network), use He initialization, and use l2 regularization with regularization strength 0.01.  Use Adam optimizer and accuracy as a training metric. Train for 50 epochs, but use early stopping to stop if there is no improvement in 3 epochs, use 40% of data as validation. How many epochs did the model train? What was the validation accuracy in the last epoch and why did it stop there?   (7pt)\n",
    "4. Visualize the model, training and validation accuracy and loss. Is the model overfitting?  (2pt)\n",
    "5. Use Keras tuner with seed set to 42 to tune the model from step 3 by trying one and two hidden layers, with the number of nodes 64 and 128, and test learning rate values of 1e-3, 1e-4, 1e-5. Use Hyperband tuner, 5 epochs and validation accuracy as the metric. (4pt)\n",
    "6. What are the best parameters found by the tuner? (1pt)\n",
    "7. Check the accuracy of the best model found in step 5 on the test set. (1pt)\n",
    "8. With tensorflow and numpy seed set to 42, train a convolutional neural network with 2 convolutional layers, each with 32 filters, one pooling layer of window size 2, a dropout layer with rate 0.3 (and any other necessary layers for the convolutional neural network). Use Adam optimizer and accuracy as a metric. Reshape the data to indicate greyscale and use the encoding previously conducted for the target variable (do not perform onehot encoding). Train for 30 epochs, but use early stopping to stop if there is no improvement in 3 epochs, use 40% of data as validation. (5pt)\n",
    "9. Plot the training and validation accuracy and loss (1pt)\n",
    "10. What is the accuracy of the CNN model trained in step 8 on the test set. (1pt)"
   ]
  },
  {
   "cell_type": "code",
   "execution_count": 13,
   "metadata": {},
   "outputs": [
    {
     "name": "stdout",
     "output_type": "stream",
     "text": [
      "The length of the training set is 30508 and test set is 5074. \n",
      "\n",
      "The proportion of the training set 0.86\n"
     ]
    }
   ],
   "source": [
    "# question 1\n",
    "# check size + proportion\n",
    "print(f'The length of the training set is {len(X_train)} and test set is {len(X_test)}. \\n')\n",
    "\n",
    "total = len(X_train) + len(X_test)\n",
    "share_train = round(len(X_train) / total, 2)\n",
    "share_test = round(len(X_test) / total, 2)\n",
    "print('The proportion of the training set', share_train)\n",
    "\n",
    "# scale the data by dividing by 255\n",
    "X_train = X_train / 255\n",
    "X_test = X_test / 255"
   ]
  },
  {
   "cell_type": "code",
   "execution_count": 14,
   "metadata": {},
   "outputs": [
    {
     "name": "stdout",
     "output_type": "stream",
     "text": [
      "Class distributions before LabelEncoder:\n",
      "0    6742\n",
      "3    6265\n",
      "1    6131\n",
      "4    5949\n",
      "2    5421\n",
      "dtype: int64\n",
      "\n",
      "Class distributions after LabelEncoder:\n",
      "0    6742\n",
      "1    6131\n",
      "2    5421\n",
      "3    6265\n",
      "4    5949\n",
      "dtype: int64\n"
     ]
    }
   ],
   "source": [
    "# question 2\n",
    "from sklearn.preprocessing import LabelEncoder\n",
    "\n",
    "# Recode the labels using LabelEncoder\n",
    "label = LabelEncoder()\n",
    "y_train = label.fit_transform(y_train)\n",
    "y_test = label.transform(y_test)\n",
    "\n",
    "# Check the class distributions before and after LabelEncoder\n",
    "print(\"Class distributions before LabelEncoder:\")\n",
    "series = pd.Series(y_train)\n",
    "print(series.value_counts())\n",
    "\n",
    "print(\"\\nClass distributions after LabelEncoder:\")\n",
    "print(pd.Series(y_train).value_counts().sort_index())"
   ]
  },
  {
   "cell_type": "code",
   "execution_count": 15,
   "metadata": {},
   "outputs": [
    {
     "name": "stdout",
     "output_type": "stream",
     "text": [
      "Epoch 1/50\n",
      "572/572 [==============================] - 2s 3ms/step - loss: 0.2641 - accuracy: 0.9231 - val_loss: 0.1467 - val_accuracy: 0.9549\n",
      "Epoch 2/50\n",
      "572/572 [==============================] - 1s 2ms/step - loss: 0.1191 - accuracy: 0.9632 - val_loss: 0.1076 - val_accuracy: 0.9678\n",
      "Epoch 3/50\n",
      "572/572 [==============================] - 1s 2ms/step - loss: 0.0880 - accuracy: 0.9727 - val_loss: 0.0920 - val_accuracy: 0.9716\n",
      "Epoch 4/50\n",
      "572/572 [==============================] - 1s 2ms/step - loss: 0.0675 - accuracy: 0.9794 - val_loss: 0.0998 - val_accuracy: 0.9669\n",
      "Epoch 5/50\n",
      "572/572 [==============================] - 1s 2ms/step - loss: 0.0529 - accuracy: 0.9842 - val_loss: 0.0920 - val_accuracy: 0.9726\n",
      "Epoch 6/50\n",
      "572/572 [==============================] - 1s 2ms/step - loss: 0.0423 - accuracy: 0.9877 - val_loss: 0.0754 - val_accuracy: 0.9753\n",
      "Epoch 7/50\n",
      "572/572 [==============================] - 1s 2ms/step - loss: 0.0333 - accuracy: 0.9904 - val_loss: 0.0706 - val_accuracy: 0.9784\n",
      "Epoch 8/50\n",
      "572/572 [==============================] - 1s 2ms/step - loss: 0.0267 - accuracy: 0.9923 - val_loss: 0.0654 - val_accuracy: 0.9807\n",
      "Epoch 9/50\n",
      "572/572 [==============================] - 1s 2ms/step - loss: 0.0218 - accuracy: 0.9945 - val_loss: 0.0680 - val_accuracy: 0.9807\n",
      "Epoch 10/50\n",
      "572/572 [==============================] - 1s 2ms/step - loss: 0.0178 - accuracy: 0.9954 - val_loss: 0.0681 - val_accuracy: 0.9807\n",
      "Epoch 11/50\n",
      "572/572 [==============================] - 1s 2ms/step - loss: 0.0140 - accuracy: 0.9966 - val_loss: 0.0673 - val_accuracy: 0.9804\n",
      "Epoch 11: early stopping\n",
      "382/382 [==============================] - 0s 1ms/step - loss: 0.0673 - accuracy: 0.9804\n",
      "Validation accuracy: 0.9806621074676514\n",
      "Number of epochs trained: 8\n"
     ]
    }
   ],
   "source": [
    "# question 3\n",
    "import tensorflow as tf\n",
    "from tensorflow.keras import Sequential, layers, initializers, regularizers, losses, callbacks, optimizers\n",
    "from sklearn.model_selection import train_test_split\n",
    "\n",
    "# Set seed for reproducibility\n",
    "tf.random.set_seed(42)\n",
    "np.random.seed(42)\n",
    "\n",
    "# Recode labels with LabelEncoder\n",
    "from sklearn.preprocessing import LabelEncoder\n",
    "le = LabelEncoder()\n",
    "y_train = le.fit_transform(y_train)\n",
    "y_test = le.transform(y_test)\n",
    "\n",
    "# Split training set into training and validation sets\n",
    "X_train_4, X_val_4, y_train_4, y_val_4 = train_test_split(X_train, y_train, test_size=0.4, random_state=42)\n",
    "\n",
    "# Define model architecture\n",
    "initializer = initializers.HeNormal(seed=0)\n",
    "model = Sequential([\n",
    "    layers.Flatten(input_shape=(28, 28)),\n",
    "    layers.Dense(64, activation='relu', kernel_initializer=initializer),\n",
    "    layers.Dense(10, activation='softmax', kernel_initializer=initializer)\n",
    "])\n",
    "\n",
    "\n",
    "# Compile model\n",
    "model.compile(optimizer=optimizers.Adam(), loss=losses.SparseCategoricalCrossentropy(), metrics=['accuracy'])\n",
    "\n",
    "# Set up early stopping\n",
    "early_stop = callbacks.EarlyStopping(monitor='val_loss', patience=3, verbose=1)\n",
    "\n",
    "# Train model\n",
    "history = model.fit(X_train_4, y_train_4, epochs=50, batch_size=32, validation_data=(X_val_4, y_val_4), callbacks=[early_stop])\n",
    "\n",
    "# Evaluate model on validation set\n",
    "val_loss, val_acc = model.evaluate(X_val_4, y_val_4)\n",
    "print('Validation accuracy:', history.history['val_accuracy'][-3])\n",
    "\n",
    "# Print number of epochs trained\n",
    "print('Number of epochs trained:', len(history.history['loss'])-3)"
   ]
  },
  {
   "cell_type": "markdown",
   "metadata": {},
   "source": [
    "###### explanation Q3\n",
    "It stopped after epoch 11 because we had to break it when there would not be any improvement after 3 epochs in the validation accuracy. \n",
    "Therefore we need to go back to 3 epochs and because of that the results are:\n",
    "\n",
    "A validation accuracy of 0.8066 for the 8th epoch.\n",
    "    "
   ]
  },
  {
   "cell_type": "code",
   "execution_count": 16,
   "metadata": {},
   "outputs": [
    {
     "data": {
      "image/png": "[encoded data removed]",
      "text/plain": [
       "<Figure size 432x288 with 1 Axes>"
      ]
     },
     "metadata": {
      "needs_background": "light"
     },
     "output_type": "display_data"
    },
    {
     "data": {
      "image/png": "[encoded data removed]",
      "text/plain": [
       "<Figure size 432x288 with 1 Axes>"
      ]
     },
     "metadata": {
      "needs_background": "light"
     },
     "output_type": "display_data"
    }
   ],
   "source": [
    "# question 4\n",
    "import matplotlib.pyplot as plt\n",
    "\n",
    "# Plot training & validation accuracy values\n",
    "plt.plot(history.history['accuracy'])\n",
    "plt.plot(history.history['val_accuracy'])\n",
    "plt.title('Model accuracy')\n",
    "plt.ylabel('Accuracy')\n",
    "plt.xlabel('Epoch')\n",
    "plt.legend(['Train', 'Validation'], loc='upper left')\n",
    "plt.show()\n",
    "\n",
    "# Plot training & validation loss values\n",
    "plt.plot(history.history['loss'])\n",
    "plt.plot(history.history['val_loss'])\n",
    "plt.title('Model loss')\n",
    "plt.ylabel('Loss')\n",
    "plt.xlabel('Epoch')\n",
    "plt.legend(['Train', 'Validation'], loc='upper left')\n",
    "plt.show()"
   ]
  },
  {
   "cell_type": "markdown",
   "metadata": {},
   "source": [
    "###### Explanation Q4\n",
    "By looking at the training validation accuracy graph, we can look at the following indicators to conclude that the model is overfitting or not. Firstly, the training accuracy keeps increasing while the validation accuracy plateaus. Because of this there is a gap creating between the two kind of accuracy. This indicates that the model is becoming very good at predicting the training data, but its abiliity to generalize to new data is decreasing.\n",
    "\n",
    "\n",
    "Now, we take a look at the training validation loss model. First of all, the training loss keeps decreasing while the validation loss plateaus. Due to this reason, there is a large gep between the training and validation loss. This indicates that the model is becoming very good at predicintng the training data, but its ability to generalize to new data is decreasing. Be\n",
    "\n",
    "Due to these reasons, we conclude the model is overfitting."
   ]
  },
  {
   "cell_type": "code",
   "execution_count": 17,
   "metadata": {},
   "outputs": [
    {
     "name": "stdout",
     "output_type": "stream",
     "text": [
      "INFO:tensorflow:Reloading Tuner from my_dir\\my_project\\tuner0.json\n",
      "INFO:tensorflow:Oracle triggered exit\n"
     ]
    },
    {
     "name": "stderr",
     "output_type": "stream",
     "text": [
      "C:\\Users\\JP\\AppData\\Local\\Temp\\ipykernel_9864\\4049019991.py:4: DeprecationWarning: `import kerastuner` is deprecated, please use `import keras_tuner`.\n",
      "  from kerastuner.tuners import Hyperband\n"
     ]
    }
   ],
   "source": [
    "# question 5\n",
    "from tensorflow import keras\n",
    "from tensorflow.keras import layers\n",
    "from kerastuner.tuners import Hyperband\n",
    "\n",
    "# Set the random seed for reproducibility\n",
    "np.random.seed(42)\n",
    "tf.random.set_seed(42)\n",
    "\n",
    "# Define the model builder function\n",
    "def build_model(hp):\n",
    "    model = keras.Sequential()\n",
    "    \n",
    "    # Add the input layer\n",
    "    model.add(layers.Dense(units=64, activation='relu', input_shape=(10,)))\n",
    "    \n",
    "    # Tune the number of hidden layers and nodes in each layer\n",
    "    for i in range(hp.Int('num_layers', 1, 2)):\n",
    "        model.add(layers.Dense(units=hp.Choice('num_nodes', values=[64, 128]), activation='relu'))\n",
    "        \n",
    "    # Add the output layer\n",
    "    model.add(layers.Dense(units=1, activation='sigmoid'))\n",
    "    \n",
    "    # Tune the learning rate\n",
    "    model.compile(optimizer=keras.optimizers.Adam(learning_rate=hp.Choice('learning_rate', values=[1e-3, 1e-4, 1e-5])),\n",
    "                  loss='binary_crosse&ntropy', metrics=['accuracy'])\n",
    "    \n",
    "    return model\n",
    "\n",
    "# Instantiate the Hyperband tuner\n",
    "tuner = Hyperband(build_model,\n",
    "                  objective='val_accuracy',\n",
    "                  max_epochs=5,\n",
    "                  factor=3,\n",
    "                  seed=42,\n",
    "                  directory='my_dir',\n",
    "                  project_name='my_project')\n",
    "\n",
    "# Search for the best hyperparameters\n",
    "tuner.search(X_train, y_train, epochs=5, validation_split=0.2)"
   ]
  },
  {
   "cell_type": "code",
   "execution_count": 18,
   "metadata": {},
   "outputs": [
    {
     "name": "stdout",
     "output_type": "stream",
     "text": [
      "Best Hyperparameters:\n",
      "{'num_layers': 1, 'num_nodes': 64, 'learning_rate': 0.0001, 'tuner/epochs': 5, 'tuner/initial_epoch': 0, 'tuner/bracket': 0, 'tuner/round': 0}\n"
     ]
    }
   ],
   "source": [
    "# question 6\n",
    "best_hps = tuner.get_best_hyperparameters(1)[0]\n",
    "print(\"Best Hyperparameters:\")\n",
    "print(best_hps.values)"
   ]
  },
  {
   "cell_type": "code",
   "execution_count": 25,
   "metadata": {},
   "outputs": [
    {
     "name": "stdout",
     "output_type": "stream",
     "text": [
      "Epoch 1/5\n"
     ]
    },
    {
     "ename": "ValueError",
     "evalue": "in user code:\n\n    File \"C:\\Users\\JP\\anaconda3\\lib\\site-packages\\keras\\engine\\training.py\", line 1284, in train_function  *\n        return step_function(self, iterator)\n    File \"C:\\Users\\JP\\anaconda3\\lib\\site-packages\\keras\\engine\\training.py\", line 1268, in step_function  **\n        outputs = model.distribute_strategy.run(run_step, args=(data,))\n    File \"C:\\Users\\JP\\anaconda3\\lib\\site-packages\\keras\\engine\\training.py\", line 1249, in run_step  **\n        outputs = model.train_step(data)\n    File \"C:\\Users\\JP\\anaconda3\\lib\\site-packages\\keras\\engine\\training.py\", line 1050, in train_step\n        y_pred = self(x, training=True)\n    File \"C:\\Users\\JP\\anaconda3\\lib\\site-packages\\keras\\utils\\traceback_utils.py\", line 70, in error_handler\n        raise e.with_traceback(filtered_tb) from None\n    File \"C:\\Users\\JP\\anaconda3\\lib\\site-packages\\keras\\engine\\input_spec.py\", line 298, in assert_input_compatibility\n        raise ValueError(\n\n    ValueError: Input 0 of layer \"sequential_3\" is incompatible with the layer: expected shape=(None, 10), found shape=(32, 28, 28)\n",
     "output_type": "error",
     "traceback": [
      "\u001b[1;31m---------------------------------------------------------------------------\u001b[0m",
      "\u001b[1;31mValueError\u001b[0m                                Traceback (most recent call last)",
      "Input \u001b[1;32mIn [25]\u001b[0m, in \u001b[0;36m<cell line: 9>\u001b[1;34m()\u001b[0m\n\u001b[0;32m      6\u001b[0m best_model \u001b[38;5;241m=\u001b[39m build_model(best_hp)\n\u001b[0;32m      8\u001b[0m \u001b[38;5;66;03m# Train the best model on the full training set\u001b[39;00m\n\u001b[1;32m----> 9\u001b[0m \u001b[43mbest_model\u001b[49m\u001b[38;5;241;43m.\u001b[39;49m\u001b[43mfit\u001b[49m\u001b[43m(\u001b[49m\u001b[43mX_train\u001b[49m\u001b[43m,\u001b[49m\u001b[43m \u001b[49m\u001b[43my_train\u001b[49m\u001b[43m,\u001b[49m\u001b[43m \u001b[49m\u001b[43mepochs\u001b[49m\u001b[38;5;241;43m=\u001b[39;49m\u001b[38;5;241;43m5\u001b[39;49m\u001b[43m)\u001b[49m\n\u001b[0;32m     11\u001b[0m \u001b[38;5;66;03m# Evaluate the best model on the test set\u001b[39;00m\n\u001b[0;32m     12\u001b[0m test_loss, test_acc \u001b[38;5;241m=\u001b[39m best_model\u001b[38;5;241m.\u001b[39mevaluate(X_test, y_test)\n",
      "File \u001b[1;32m~\\anaconda3\\lib\\site-packages\\keras\\utils\\traceback_utils.py:70\u001b[0m, in \u001b[0;36mfilter_traceback.<locals>.error_handler\u001b[1;34m(*args, **kwargs)\u001b[0m\n\u001b[0;32m     67\u001b[0m     filtered_tb \u001b[38;5;241m=\u001b[39m _process_traceback_frames(e\u001b[38;5;241m.\u001b[39m__traceback__)\n\u001b[0;32m     68\u001b[0m     \u001b[38;5;66;03m# To get the full stack trace, call:\u001b[39;00m\n\u001b[0;32m     69\u001b[0m     \u001b[38;5;66;03m# `tf.debugging.disable_traceback_filtering()`\u001b[39;00m\n\u001b[1;32m---> 70\u001b[0m     \u001b[38;5;28;01mraise\u001b[39;00m e\u001b[38;5;241m.\u001b[39mwith_traceback(filtered_tb) \u001b[38;5;28;01mfrom\u001b[39;00m \u001b[38;5;28mNone\u001b[39m\n\u001b[0;32m     71\u001b[0m \u001b[38;5;28;01mfinally\u001b[39;00m:\n\u001b[0;32m     72\u001b[0m     \u001b[38;5;28;01mdel\u001b[39;00m filtered_tb\n",
      "File \u001b[1;32m~\\AppData\\Local\\Temp\\__autograph_generated_filep87255xc.py:15\u001b[0m, in \u001b[0;36mouter_factory.<locals>.inner_factory.<locals>.tf__train_function\u001b[1;34m(iterator)\u001b[0m\n\u001b[0;32m     13\u001b[0m \u001b[38;5;28;01mtry\u001b[39;00m:\n\u001b[0;32m     14\u001b[0m     do_return \u001b[38;5;241m=\u001b[39m \u001b[38;5;28;01mTrue\u001b[39;00m\n\u001b[1;32m---> 15\u001b[0m     retval_ \u001b[38;5;241m=\u001b[39m ag__\u001b[38;5;241m.\u001b[39mconverted_call(ag__\u001b[38;5;241m.\u001b[39mld(step_function), (ag__\u001b[38;5;241m.\u001b[39mld(\u001b[38;5;28mself\u001b[39m), ag__\u001b[38;5;241m.\u001b[39mld(iterator)), \u001b[38;5;28;01mNone\u001b[39;00m, fscope)\n\u001b[0;32m     16\u001b[0m \u001b[38;5;28;01mexcept\u001b[39;00m:\n\u001b[0;32m     17\u001b[0m     do_return \u001b[38;5;241m=\u001b[39m \u001b[38;5;28;01mFalse\u001b[39;00m\n",
      "\u001b[1;31mValueError\u001b[0m: in user code:\n\n    File \"C:\\Users\\JP\\anaconda3\\lib\\site-packages\\keras\\engine\\training.py\", line 1284, in train_function  *\n        return step_function(self, iterator)\n    File \"C:\\Users\\JP\\anaconda3\\lib\\site-packages\\keras\\engine\\training.py\", line 1268, in step_function  **\n        outputs = model.distribute_strategy.run(run_step, args=(data,))\n    File \"C:\\Users\\JP\\anaconda3\\lib\\site-packages\\keras\\engine\\training.py\", line 1249, in run_step  **\n        outputs = model.train_step(data)\n    File \"C:\\Users\\JP\\anaconda3\\lib\\site-packages\\keras\\engine\\training.py\", line 1050, in train_step\n        y_pred = self(x, training=True)\n    File \"C:\\Users\\JP\\anaconda3\\lib\\site-packages\\keras\\utils\\traceback_utils.py\", line 70, in error_handler\n        raise e.with_traceback(filtered_tb) from None\n    File \"C:\\Users\\JP\\anaconda3\\lib\\site-packages\\keras\\engine\\input_spec.py\", line 298, in assert_input_compatibility\n        raise ValueError(\n\n    ValueError: Input 0 of layer \"sequential_3\" is incompatible with the layer: expected shape=(None, 10), found shape=(32, 28, 28)\n"
     ]
    }
   ],
   "source": [
    "# question 7\n",
    "# Retrieve the best hyperparameters\n",
    "best_hp = tuner.get_best_hyperparameters(1)[0]\n",
    "\n",
    "# Build the model with the best hyperparameters\n",
    "best_model = build_model(best_hp)\n",
    "\n",
    "# Train the best model on the full training set\n",
    "best_model.fit(X_train, y_train, epochs=5)\n",
    "\n",
    "# Evaluate the best model on the test set\n",
    "test_loss, test_acc = best_model.evaluate(X_test, y_test)\n",
    "print('Test accuracy:', test_acc)"
   ]
  },
  {
   "cell_type": "code",
   "execution_count": 20,
   "metadata": {},
   "outputs": [
    {
     "name": "stdout",
     "output_type": "stream",
     "text": [
      "Epoch 1/30\n",
      "572/572 [==============================] - 20s 34ms/step - loss: 0.2090 - accuracy: 0.9354 - val_loss: 0.0728 - val_accuracy: 0.9788\n",
      "Epoch 2/30\n",
      "572/572 [==============================] - 22s 39ms/step - loss: 0.0676 - accuracy: 0.9807 - val_loss: 0.0420 - val_accuracy: 0.9885\n",
      "Epoch 3/30\n",
      "572/572 [==============================] - 22s 39ms/step - loss: 0.0474 - accuracy: 0.9854 - val_loss: 0.0379 - val_accuracy: 0.9884\n",
      "Epoch 4/30\n",
      "572/572 [==============================] - 22s 38ms/step - loss: 0.0367 - accuracy: 0.9881 - val_loss: 0.0358 - val_accuracy: 0.9889\n",
      "Epoch 5/30\n",
      "572/572 [==============================] - 21s 37ms/step - loss: 0.0310 - accuracy: 0.9899 - val_loss: 0.0299 - val_accuracy: 0.9907\n",
      "Epoch 6/30\n",
      "572/572 [==============================] - 21s 36ms/step - loss: 0.0266 - accuracy: 0.9915 - val_loss: 0.0259 - val_accuracy: 0.9921\n",
      "Epoch 7/30\n",
      "572/572 [==============================] - 21s 36ms/step - loss: 0.0208 - accuracy: 0.9936 - val_loss: 0.0261 - val_accuracy: 0.9918\n",
      "Epoch 8/30\n",
      "572/572 [==============================] - 21s 37ms/step - loss: 0.0192 - accuracy: 0.9940 - val_loss: 0.0247 - val_accuracy: 0.9929\n",
      "Epoch 9/30\n",
      "572/572 [==============================] - 21s 36ms/step - loss: 0.0177 - accuracy: 0.9944 - val_loss: 0.0250 - val_accuracy: 0.9929\n",
      "Epoch 10/30\n",
      "572/572 [==============================] - 21s 36ms/step - loss: 0.0156 - accuracy: 0.9948 - val_loss: 0.0255 - val_accuracy: 0.9926\n",
      "Epoch 11/30\n",
      "572/572 [==============================] - 21s 36ms/step - loss: 0.0131 - accuracy: 0.9955 - val_loss: 0.0276 - val_accuracy: 0.9920\n",
      "Epoch 11: early stopping\n",
      "159/159 [==============================] - 1s 6ms/step - loss: 0.0222 - accuracy: 0.9933\n",
      "Test accuracy: 0.9932991862297058\n"
     ]
    }
   ],
   "source": [
    "# question 8\n",
    "# Use encoding previously conducted for target variable\n",
    "from sklearn.preprocessing import LabelEncoder\n",
    "le = LabelEncoder()\n",
    "y_train = le.fit_transform(y_train)\n",
    "y_test = le.transform(y_test)\n",
    "\n",
    "# Split training set into training and validation sets\n",
    "X_train, X_val, y_train, y_val = train_test_split(X_train, y_train, test_size=0.4, random_state=42)\n",
    "\n",
    "# Define model architecture\n",
    "model = Sequential([\n",
    "    layers.Conv2D(32, kernel_size=3, activation='relu', input_shape=(28, 28, 1)),\n",
    "    layers.Conv2D(32, kernel_size=3, activation='relu'),\n",
    "    layers.MaxPooling2D(pool_size=2),\n",
    "    layers.Dropout(0.3),\n",
    "    layers.Flatten(),\n",
    "    layers.Dense(10, activation='softmax')\n",
    "])\n",
    "\n",
    "# Compile model\n",
    "model.compile(optimizer='adam', loss='sparse_categorical_crossentropy', metrics=['accuracy'])\n",
    "\n",
    "# Set up early stopping\n",
    "early_stop = callbacks.EarlyStopping(monitor='val_loss', patience=3, verbose=1)\n",
    "\n",
    "# Train model\n",
    "history = model.fit(X_train, y_train, epochs=30, batch_size=32, validation_data=(X_val, y_val), callbacks=[early_stop])\n",
    "\n",
    "# Evaluate model on test set\n",
    "test_loss, test_acc = model.evaluate(X_test, y_test)\n",
    "print('Test accuracy:', test_acc)"
   ]
  },
  {
   "cell_type": "code",
   "execution_count": 23,
   "metadata": {
    "scrolled": true
   },
   "outputs": [
    {
     "data": {
      "image/png": "[encoded data removed]",
      "text/plain": [
       "<Figure size 432x288 with 1 Axes>"
      ]
     },
     "metadata": {
      "needs_background": "light"
     },
     "output_type": "display_data"
    },
    {
     "data": {
      "image/png": "[encoded data removed]",
      "text/plain": [
       "<Figure size 432x288 with 1 Axes>"
      ]
     },
     "metadata": {
      "needs_background": "light"
     },
     "output_type": "display_data"
    }
   ],
   "source": [
    "# questin 9\n",
    "# Plot the training and validation accuracy\n",
    "plt.plot(history.history['accuracy'])\n",
    "plt.plot(history.history['val_accuracy'])\n",
    "plt.title('Model accuracy')\n",
    "plt.ylabel('Accuracy')\n",
    "plt.xlabel('Epoch')\n",
    "plt.legend(['Train', 'Val'], loc='upper left')\n",
    "plt.show()\n",
    "\n",
    "# Plot the training and validation loss\n",
    "plt.plot(history.history['loss'])\n",
    "plt.plot(history.history['val_loss'])\n",
    "plt.title('Model loss')\n",
    "plt.ylabel('Loss')\n",
    "plt.xlabel('Epoch')\n",
    "plt.legend(['Train', 'Val'], loc='upper left')\n",
    "plt.show()"
   ]
  },
  {
   "cell_type": "markdown",
   "metadata": {},
   "source": [
    "###### explanation Q9\n",
    "\n",
    "By looking at the training & validation model accuracy and loss graph, we can look at the following indicators to conclude that the model is overfitting or not. \n",
    "\n",
    "Here, it is apparant that the graphs are not the same as for question 2.4. \n",
    "First of all, the training and validation model accuracy and model loss are plateau at the same time. Moreover, there is no gap between the training and validation graph as wel with the model accuracy as with the model loss. Therefore we can say there is no overfitting in this case."
   ]
  },
  {
   "cell_type": "code",
   "execution_count": 24,
   "metadata": {
    "scrolled": true
   },
   "outputs": [
    {
     "name": "stdout",
     "output_type": "stream",
     "text": [
      "159/159 [==============================] - 1s 5ms/step - loss: 0.0222 - accuracy: 0.9933\n",
      "Test accuracy: 0.9932991862297058\n"
     ]
    }
   ],
   "source": [
    "# question 10\n",
    "test_loss, test_acc = model.evaluate(X_test, y_test)\n",
    "print('Test accuracy:', test_acc)"
   ]
  }
 ],
 "metadata": {
  "kernelspec": {
   "display_name": "Python 3 (ipykernel)",
   "language": "python",
   "name": "python3"
  },
  "language_info": {
   "codemirror_mode": {
    "name": "ipython",
    "version": 3
   },
   "file_extension": ".py",
   "mimetype": "text/x-python",
   "name": "python",
   "nbconvert_exporter": "python",
   "pygments_lexer": "ipython3",
   "version": "3.9.12"
  }
 },
 "nbformat": 4,
 "nbformat_minor": 4
}
